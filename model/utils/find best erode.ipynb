{
 "cells": [
  {
   "cell_type": "code",
   "execution_count": 1,
   "metadata": {
    "ExecuteTime": {
     "end_time": "2023-06-06T07:22:45.651405Z",
     "start_time": "2023-06-06T07:22:43.737186Z"
    }
   },
   "outputs": [
    {
     "name": "stderr",
     "output_type": "stream",
     "text": [
      "E:\\anaconda\\envs\\DSIM\\lib\\site-packages\\tqdm\\auto.py:22: TqdmWarning: IProgress not found. Please update jupyter and ipywidgets. See https://ipywidgets.readthedocs.io/en/stable/user_install.html\n",
      "  from .autonotebook import tqdm as notebook_tqdm\n"
     ]
    }
   ],
   "source": [
    "import torch\n",
    "import torch.nn as nn\n",
    "import torch.nn.functional as F\n",
    "from torchsummary import summary \n",
    "from utils import cat_tensor, crop_tensor\n",
    "import matplotlib.pyplot as plt"
   ]
  },
  {
   "cell_type": "code",
   "execution_count": 2,
   "metadata": {
    "ExecuteTime": {
     "end_time": "2023-06-06T07:22:45.667364Z",
     "start_time": "2023-06-06T07:22:45.652403Z"
    }
   },
   "outputs": [],
   "source": [
    "class MinPool(nn.Module):\n",
    "    def __init__(self, kernel_size, ndim=2, stride=None, padding=0, dilation=1, return_indices=False, ceil_mode=False):\n",
    "        super(MinPool, self).__init__()\n",
    "        self.pool = getattr(nn, f'MaxPool{ndim}d')(kernel_size=kernel_size, stride=stride, padding=padding, dilation=dilation,\n",
    "                                                  return_indices=return_indices, ceil_mode=ceil_mode)\n",
    "    def forward(self, x):\n",
    "        x = self.pool(-x)\n",
    "        return -x"
   ]
  },
  {
   "cell_type": "code",
   "execution_count": 5,
   "metadata": {
    "ExecuteTime": {
     "end_time": "2023-06-06T07:26:01.629659Z",
     "start_time": "2023-06-06T07:26:01.618688Z"
    }
   },
   "outputs": [],
   "source": [
    "scale = 2\n",
    "minp = MinPool(scale, ndim = 2, stride = 1, padding = 0)\n",
    "minp = minp.cuda()\n",
    "maxp = nn.MaxPool2d(scale, stride = 1, padding = 0.5).cuda()\n",
    "up = nn.Upsample(scale_factor=scale)"
   ]
  },
  {
   "cell_type": "code",
   "execution_count": 28,
   "metadata": {
    "ExecuteTime": {
     "end_time": "2023-06-06T01:47:17.098586Z",
     "start_time": "2023-06-06T01:47:17.083525Z"
    }
   },
   "outputs": [],
   "source": [
    "test_origin = torch.randn((2,1,256,256))"
   ]
  },
  {
   "cell_type": "code",
   "execution_count": 44,
   "metadata": {
    "ExecuteTime": {
     "end_time": "2023-06-06T01:48:15.256424Z",
     "start_time": "2023-06-06T01:48:15.249081Z"
    }
   },
   "outputs": [],
   "source": [
    "maxp = nn.MaxPool2d(3, stride = 1, padding = 1).cuda()"
   ]
  },
  {
   "cell_type": "code",
   "execution_count": 54,
   "metadata": {
    "ExecuteTime": {
     "end_time": "2023-06-06T01:48:59.904081Z",
     "start_time": "2023-06-06T01:48:59.898089Z"
    }
   },
   "outputs": [],
   "source": [
    "maxp = nn.MaxPool2d(5, stride = 1, padding = 2).cuda()"
   ]
  },
  {
   "cell_type": "code",
   "execution_count": 70,
   "metadata": {
    "ExecuteTime": {
     "end_time": "2023-06-06T01:50:15.400243Z",
     "start_time": "2023-06-06T01:50:15.386281Z"
    }
   },
   "outputs": [],
   "source": [
    "maxp = nn.MaxPool2d(kernel_size = (2,1), stride = 1, padding = (0,0)).cuda()"
   ]
  },
  {
   "cell_type": "code",
   "execution_count": 71,
   "metadata": {
    "ExecuteTime": {
     "end_time": "2023-06-06T01:50:15.686905Z",
     "start_time": "2023-06-06T01:50:15.680922Z"
    }
   },
   "outputs": [
    {
     "data": {
      "text/plain": [
       "torch.Size([2, 1, 255, 256])"
      ]
     },
     "execution_count": 71,
     "metadata": {},
     "output_type": "execute_result"
    }
   ],
   "source": [
    "maxp(test_origin).shape"
   ]
  },
  {
   "cell_type": "markdown",
   "metadata": {},
   "source": [
    "# 稀疏表示"
   ]
  },
  {
   "cell_type": "markdown",
   "metadata": {
    "heading_collapsed": true
   },
   "source": [
    "## 数据"
   ]
  },
  {
   "cell_type": "code",
   "execution_count": 314,
   "metadata": {
    "ExecuteTime": {
     "end_time": "2023-06-06T03:39:44.510414Z",
     "start_time": "2023-06-06T03:39:44.393189Z"
    },
    "hidden": true
   },
   "outputs": [
    {
     "data": {
      "image/png": "[encoded data removed]",
      "text/plain": [
       "<Figure size 432x288 with 1 Axes>"
      ]
     },
     "metadata": {
      "needs_background": "light"
     },
     "output_type": "display_data"
    },
    {
     "data": {
      "text/plain": [
       "tensor(0.1893)"
      ]
     },
     "execution_count": 314,
     "metadata": {},
     "output_type": "execute_result"
    }
   ],
   "source": [
    "a = torch.randn((1,1,14,14))\n",
    "a[a<1] = 0\n",
    "a[a>1] = 1\n",
    "plt.imshow(a.squeeze().numpy())\n",
    "plt.show()\n",
    "torch.sum(a)/169"
   ]
  },
  {
   "cell_type": "markdown",
   "metadata": {},
   "source": [
    "## 竖向"
   ]
  },
  {
   "cell_type": "code",
   "execution_count": 131,
   "metadata": {
    "ExecuteTime": {
     "end_time": "2023-06-06T09:32:20.156492Z",
     "start_time": "2023-06-06T09:32:20.140534Z"
    }
   },
   "outputs": [],
   "source": [
    "maxp = nn.MaxPool2d(kernel_size = (2,1), stride = 1, padding = 0).cuda()\n",
    "minp = MinPool(kernel_size = (2,1), stride = 1, padding = 0).cuda()"
   ]
  },
  {
   "cell_type": "code",
   "execution_count": 132,
   "metadata": {
    "ExecuteTime": {
     "end_time": "2023-06-06T09:32:20.858613Z",
     "start_time": "2023-06-06T09:32:20.842656Z"
    }
   },
   "outputs": [
    {
     "data": {
      "text/plain": [
       "torch.Size([1, 1, 14, 14])"
      ]
     },
     "execution_count": 132,
     "metadata": {},
     "output_type": "execute_result"
    }
   ],
   "source": [
    "a_pad = torch.nn.functional.pad(a, (0, 0, 1, 1))\n",
    "ans = minp(a_pad)\n",
    "#ans = torch.nn.functional.pad(ans, (0, 0, 0, 0))\n",
    "ans1 = maxp(ans)\n",
    "ans1.shape"
   ]
  },
  {
   "cell_type": "code",
   "execution_count": 133,
   "metadata": {
    "ExecuteTime": {
     "end_time": "2023-06-06T09:32:21.498901Z",
     "start_time": "2023-06-06T09:32:21.401162Z"
    }
   },
   "outputs": [
    {
     "data": {
      "image/png": "[encoded data removed]",
      "text/plain": [
       "<Figure size 432x288 with 1 Axes>"
      ]
     },
     "metadata": {
      "needs_background": "light"
     },
     "output_type": "display_data"
    }
   ],
   "source": [
    "plt.imshow(ans1[0].squeeze().numpy())\n",
    "plt.show()"
   ]
  },
  {
   "cell_type": "markdown",
   "metadata": {
    "ExecuteTime": {
     "end_time": "2023-06-06T02:05:00.251400Z",
     "start_time": "2023-06-06T02:05:00.235405Z"
    },
    "heading_collapsed": true
   },
   "source": [
    "## 横向"
   ]
  },
  {
   "cell_type": "code",
   "execution_count": 127,
   "metadata": {
    "ExecuteTime": {
     "end_time": "2023-06-06T09:31:11.595702Z",
     "start_time": "2023-06-06T09:31:11.585729Z"
    },
    "hidden": true
   },
   "outputs": [],
   "source": [
    "maxp = nn.MaxPool2d(kernel_size = (1,2), stride = 1, padding = 0).cuda()\n",
    "minp = MinPool(kernel_size = (1,2), stride = 1, padding = 0).cuda()"
   ]
  },
  {
   "cell_type": "code",
   "execution_count": 128,
   "metadata": {
    "ExecuteTime": {
     "end_time": "2023-06-06T09:31:12.253942Z",
     "start_time": "2023-06-06T09:31:12.242972Z"
    },
    "hidden": true
   },
   "outputs": [
    {
     "data": {
      "text/plain": [
       "torch.Size([1, 1, 14, 14])"
      ]
     },
     "execution_count": 128,
     "metadata": {},
     "output_type": "execute_result"
    }
   ],
   "source": [
    "a_pad = torch.nn.functional.pad(a, (1, 1, 0, 0))\n",
    "ans = minp(a_pad)\n",
    "#ans = torch.nn.functional.pad(ans, (1, 0, 0, 0))\n",
    "ans = maxp(ans)\n",
    "ans.shape"
   ]
  },
  {
   "cell_type": "code",
   "execution_count": 129,
   "metadata": {
    "ExecuteTime": {
     "end_time": "2023-06-06T09:31:13.781855Z",
     "start_time": "2023-06-06T09:31:13.690100Z"
    },
    "hidden": true
   },
   "outputs": [
    {
     "data": {
      "image/png": "[encoded data removed]",
      "text/plain": [
       "<Figure size 432x288 with 1 Axes>"
      ]
     },
     "metadata": {
      "needs_background": "light"
     },
     "output_type": "display_data"
    }
   ],
   "source": [
    "plt.imshow(ans.squeeze().numpy())\n",
    "plt.show()"
   ]
  },
  {
   "cell_type": "markdown",
   "metadata": {
    "heading_collapsed": true
   },
   "source": [
    "## 结果"
   ]
  },
  {
   "cell_type": "code",
   "execution_count": 347,
   "metadata": {
    "ExecuteTime": {
     "end_time": "2023-06-06T03:43:42.914661Z",
     "start_time": "2023-06-06T03:43:42.698973Z"
    },
    "hidden": true
   },
   "outputs": [
    {
     "data": {
      "image/png": "[encoded data removed]",
      "text/plain": [
       "<Figure size 864x864 with 2 Axes>"
      ]
     },
     "metadata": {
      "needs_background": "light"
     },
     "output_type": "display_data"
    }
   ],
   "source": [
    "plt.figure(figsize=(12,12))\n",
    "plt.subplot(121)\n",
    "plt.imshow(a.squeeze().numpy())\n",
    "plt.subplot(122)\n",
    "plt.imshow((ans1 - ans).squeeze().numpy())\n",
    "plt.show()"
   ]
  },
  {
   "cell_type": "markdown",
   "metadata": {
    "heading_collapsed": true
   },
   "source": [
    "# 中度密集"
   ]
  },
  {
   "cell_type": "markdown",
   "metadata": {
    "heading_collapsed": true,
    "hidden": true
   },
   "source": [
    "## 数据"
   ]
  },
  {
   "cell_type": "code",
   "execution_count": 40,
   "metadata": {
    "ExecuteTime": {
     "end_time": "2023-06-06T09:06:31.276260Z",
     "start_time": "2023-06-06T09:06:31.171540Z"
    },
    "hidden": true
   },
   "outputs": [
    {
     "data": {
      "image/png": "[encoded data removed]",
      "text/plain": [
       "<Figure size 432x288 with 1 Axes>"
      ]
     },
     "metadata": {
      "needs_background": "light"
     },
     "output_type": "display_data"
    },
    {
     "data": {
      "text/plain": [
       "tensor(0.1834)"
      ]
     },
     "execution_count": 40,
     "metadata": {},
     "output_type": "execute_result"
    }
   ],
   "source": [
    "a = torch.randn((1,1,14,14))\n",
    "a[a<0.9] = 0\n",
    "a[a>0.9] = 1\n",
    "plt.imshow(a.squeeze().numpy())\n",
    "plt.show()\n",
    "torch.sum(a)/169"
   ]
  },
  {
   "cell_type": "markdown",
   "metadata": {
    "ExecuteTime": {
     "end_time": "2023-06-06T02:11:08.567552Z",
     "start_time": "2023-06-06T02:11:08.559578Z"
    },
    "heading_collapsed": true,
    "hidden": true
   },
   "source": [
    "## 竖向"
   ]
  },
  {
   "cell_type": "code",
   "execution_count": 349,
   "metadata": {
    "ExecuteTime": {
     "end_time": "2023-06-06T03:44:05.911753Z",
     "start_time": "2023-06-06T03:44:05.894145Z"
    },
    "hidden": true
   },
   "outputs": [],
   "source": [
    "maxp = nn.MaxPool2d(kernel_size = (2,1), stride = 1, padding = 0).cuda()\n",
    "minp = MinPool(kernel_size = (2,1), stride = 1, padding = 0).cuda()"
   ]
  },
  {
   "cell_type": "code",
   "execution_count": 350,
   "metadata": {
    "ExecuteTime": {
     "end_time": "2023-06-06T03:44:06.392134Z",
     "start_time": "2023-06-06T03:44:06.250795Z"
    },
    "hidden": true
   },
   "outputs": [
    {
     "data": {
      "image/png": "[encoded data removed]",
      "text/plain": [
       "<Figure size 432x288 with 1 Axes>"
      ]
     },
     "metadata": {
      "needs_background": "light"
     },
     "output_type": "display_data"
    },
    {
     "data": {
      "text/plain": [
       "torch.Size([1, 1, 14, 14])"
      ]
     },
     "execution_count": 350,
     "metadata": {},
     "output_type": "execute_result"
    }
   ],
   "source": [
    "a_pad = torch.nn.functional.pad(a, (0, 0, 1, 1))\n",
    "ans = minp(a_pad)\n",
    "#ans = torch.nn.functional.pad(ans, (0, 0, 1, 0))\n",
    "ans1 = maxp(ans)\n",
    "plt.imshow(ans1.squeeze().numpy())\n",
    "plt.show()\n",
    "ans1.shape"
   ]
  },
  {
   "cell_type": "markdown",
   "metadata": {
    "heading_collapsed": true,
    "hidden": true
   },
   "source": [
    "## 横向"
   ]
  },
  {
   "cell_type": "code",
   "execution_count": 351,
   "metadata": {
    "ExecuteTime": {
     "end_time": "2023-06-06T03:44:11.136440Z",
     "start_time": "2023-06-06T03:44:11.124473Z"
    },
    "hidden": true
   },
   "outputs": [],
   "source": [
    "maxp = nn.MaxPool2d(kernel_size = (1,2), stride = 1, padding = 0).cuda()\n",
    "minp = MinPool(kernel_size = (1,2), stride = 1, padding = 0).cuda()"
   ]
  },
  {
   "cell_type": "code",
   "execution_count": 352,
   "metadata": {
    "ExecuteTime": {
     "end_time": "2023-06-06T03:44:11.467140Z",
     "start_time": "2023-06-06T03:44:11.329510Z"
    },
    "hidden": true
   },
   "outputs": [
    {
     "data": {
      "image/png": "[encoded data removed]",
      "text/plain": [
       "<Figure size 432x288 with 1 Axes>"
      ]
     },
     "metadata": {
      "needs_background": "light"
     },
     "output_type": "display_data"
    },
    {
     "data": {
      "text/plain": [
       "(torch.Size([1, 1, 14, 14]), torch.Size([1, 1, 14, 14]))"
      ]
     },
     "execution_count": 352,
     "metadata": {},
     "output_type": "execute_result"
    }
   ],
   "source": [
    "a_pad = torch.nn.functional.pad(a, (1, 1, 0, 0))\n",
    "ans = minp(a_pad)\n",
    "#ans = torch.nn.functional.pad(ans, (1, 0, 0, 0))\n",
    "ans = maxp(ans)\n",
    "plt.imshow(ans.squeeze().numpy())\n",
    "plt.show()\n",
    "a.shape, ans.shape"
   ]
  },
  {
   "cell_type": "markdown",
   "metadata": {
    "heading_collapsed": true,
    "hidden": true
   },
   "source": [
    "## 结果"
   ]
  },
  {
   "cell_type": "code",
   "execution_count": 354,
   "metadata": {
    "ExecuteTime": {
     "end_time": "2023-06-06T03:44:25.218741Z",
     "start_time": "2023-06-06T03:44:24.983679Z"
    },
    "hidden": true
   },
   "outputs": [
    {
     "data": {
      "image/png": "[encoded data removed]",
      "text/plain": [
       "<Figure size 864x864 with 2 Axes>"
      ]
     },
     "metadata": {
      "needs_background": "light"
     },
     "output_type": "display_data"
    }
   ],
   "source": [
    "plt.figure(figsize=(12,12))\n",
    "plt.subplot(121)\n",
    "plt.imshow(a.squeeze().numpy())\n",
    "plt.subplot(122)\n",
    "plt.imshow((ans1 + ans).squeeze().numpy())\n",
    "plt.show()"
   ]
  },
  {
   "cell_type": "markdown",
   "metadata": {
    "heading_collapsed": true
   },
   "source": [
    "# 高度密集"
   ]
  },
  {
   "cell_type": "markdown",
   "metadata": {
    "hidden": true
   },
   "source": [
    "## 数据"
   ]
  },
  {
   "cell_type": "code",
   "execution_count": 76,
   "metadata": {
    "ExecuteTime": {
     "end_time": "2023-06-06T09:17:20.743249Z",
     "start_time": "2023-06-06T09:17:20.639103Z"
    },
    "hidden": true
   },
   "outputs": [
    {
     "data": {
      "image/png": "[encoded data removed]",
      "text/plain": [
       "<Figure size 432x288 with 1 Axes>"
      ]
     },
     "metadata": {
      "needs_background": "light"
     },
     "output_type": "display_data"
    },
    {
     "data": {
      "text/plain": [
       "tensor(0.3163)"
      ]
     },
     "execution_count": 76,
     "metadata": {},
     "output_type": "execute_result"
    }
   ],
   "source": [
    "a = torch.randn((1,1,14,14))\n",
    "a[a<0.5] = 0\n",
    "a[a>0.5] = 1\n",
    "plt.imshow(a.squeeze().numpy())\n",
    "plt.show()\n",
    "torch.sum(a)/196"
   ]
  },
  {
   "cell_type": "markdown",
   "metadata": {
    "heading_collapsed": true,
    "hidden": true
   },
   "source": [
    "## 测试"
   ]
  },
  {
   "cell_type": "code",
   "execution_count": 77,
   "metadata": {
    "ExecuteTime": {
     "end_time": "2023-06-06T09:17:23.749208Z",
     "start_time": "2023-06-06T09:17:23.534782Z"
    },
    "hidden": true
   },
   "outputs": [
    {
     "data": {
      "image/png": "[encoded data removed]",
      "text/plain": [
       "<Figure size 432x288 with 1 Axes>"
      ]
     },
     "metadata": {
      "needs_background": "light"
     },
     "output_type": "display_data"
    },
    {
     "data": {
      "image/png": "[encoded data removed]",
      "text/plain": [
       "<Figure size 432x288 with 1 Axes>"
      ]
     },
     "metadata": {
      "needs_background": "light"
     },
     "output_type": "display_data"
    },
    {
     "data": {
      "text/plain": [
       "torch.Size([1, 1, 14, 14])"
      ]
     },
     "execution_count": 77,
     "metadata": {},
     "output_type": "execute_result"
    }
   ],
   "source": [
    "maxp = nn.MaxPool2d(kernel_size = 2, stride = 2, padding = 0).cuda()\n",
    "minp = MinPool(kernel_size = 2, stride = 1, padding = 0).cuda()\n",
    "a_pad = torch.nn.functional.pad(a, (0, 1, 0, 1))\n",
    "ans = minp(a_pad)\n",
    "#ans = minp1(ans)\n",
    "plt.imshow(ans.squeeze().numpy())\n",
    "plt.show()\n",
    "ans = up(ans)\n",
    "ans = maxp(ans)\n",
    "ans = maxp(ans)\n",
    "ans = up(ans)\n",
    "plt.imshow(ans.squeeze().numpy())\n",
    "plt.show()\n",
    "ans.shape"
   ]
  },
  {
   "cell_type": "markdown",
   "metadata": {
    "heading_collapsed": true,
    "hidden": true
   },
   "source": [
    "## 结果"
   ]
  },
  {
   "cell_type": "code",
   "execution_count": 78,
   "metadata": {
    "ExecuteTime": {
     "end_time": "2023-06-06T09:17:29.619815Z",
     "start_time": "2023-06-06T09:17:29.436306Z"
    },
    "hidden": true
   },
   "outputs": [
    {
     "data": {
      "image/png": "[encoded data removed]",
      "text/plain": [
       "<Figure size 864x864 with 2 Axes>"
      ]
     },
     "metadata": {
      "needs_background": "light"
     },
     "output_type": "display_data"
    },
    {
     "data": {
      "text/plain": [
       "(torch.Size([1, 1, 14, 14]), torch.Size([1, 1, 14, 14]))"
      ]
     },
     "execution_count": 78,
     "metadata": {},
     "output_type": "execute_result"
    }
   ],
   "source": [
    "plt.figure(figsize=(12,12))\n",
    "plt.subplot(121)\n",
    "plt.imshow(a.squeeze().numpy())\n",
    "plt.subplot(122)\n",
    "plt.imshow((ans).squeeze().numpy())\n",
    "plt.show()\n",
    "a.shape, ans.shape"
   ]
  },
  {
   "cell_type": "markdown",
   "metadata": {},
   "source": [
    "# pipline"
   ]
  },
  {
   "cell_type": "code",
   "execution_count": 25,
   "metadata": {
    "ExecuteTime": {
     "end_time": "2023-06-06T08:23:33.757393Z",
     "start_time": "2023-06-06T08:23:33.745188Z"
    },
    "code_folding": [
     0,
     1,
     5
    ]
   },
   "outputs": [],
   "source": [
    "class MinPool(nn.Module):\n",
    "    def __init__(self, kernel_size, ndim=2, stride=None, padding=0, dilation=1, return_indices=False, ceil_mode=False):\n",
    "        super(MinPool, self).__init__()\n",
    "        self.pool = getattr(nn, f'MaxPool{ndim}d')(kernel_size=kernel_size, stride=stride, padding=padding, dilation=dilation,\n",
    "                                                  return_indices=return_indices, ceil_mode=ceil_mode)\n",
    "    def forward(self, x):\n",
    "        x = self.pool(-x)\n",
    "        return -x"
   ]
  },
  {
   "cell_type": "code",
   "execution_count": 140,
   "metadata": {
    "ExecuteTime": {
     "end_time": "2023-06-06T09:34:37.250991Z",
     "start_time": "2023-06-06T09:34:37.233050Z"
    },
    "code_folding": [
     1
    ]
   },
   "outputs": [],
   "source": [
    "@torch.no_grad()\n",
    "class ApprConSolution(nn.Module):\n",
    "    # Approximate connected solution\n",
    "    def __init__(self, scale = 2):\n",
    "        super().__init__()\n",
    "        self.up = nn.Upsample(scale_factor=scale)\n",
    "        self.thre = 0.3# [0 - 0.2 ,0.2 - 0.3 , 0.3 - 1] small middle big\n",
    "        self.magic_number = 169 # 13 * 13\n",
    "        self.few_dilate_col = nn.MaxPool2d(kernel_size = (2,1), stride = 1, padding = 0)\n",
    "        self.few_erode_col = MinPool(kernel_size = (2,1), stride = 1, padding = 0)\n",
    "        self.few_dilate_raw = nn.MaxPool2d(kernel_size = (1,2), stride = 1, padding = 0)\n",
    "        self.few_erode_raw = MinPool(kernel_size = (1,2), stride = 1, padding = 0)\n",
    "        self.dense_dilate = nn.MaxPool2d(kernel_size = 2, stride = 2, padding = 0)\n",
    "        self.dense_erode = MinPool(kernel_size = 2, stride = 1, padding = 0)\n",
    "    \n",
    "    def forward_dense(self, x):\n",
    "        # print(\"call forward dense\")\n",
    "        # pad first\n",
    "        x_pad = torch.nn.functional.pad(x, (0, 1, 0, 1))\n",
    "        # erode x\n",
    "        ans = self.dense_erode(x_pad)\n",
    "        # up scale\n",
    "        ans = self.up(ans)\n",
    "        \n",
    "        # enchance the max \n",
    "        ans = self.dense_dilate(ans)\n",
    "        ans = self.dense_dilate(ans)\n",
    "        ans = self.up(ans)\n",
    "        return ans\n",
    "        \n",
    "    def forward_few(self,x):\n",
    "        #print(\"call forward few\")\n",
    "        # pad in different direction\n",
    "        a_pad = torch.nn.functional.pad(x, (0, 0, 1, 1))\n",
    "        ans = self.few_erode_col(a_pad)\n",
    "        ans_col = self.few_dilate_col(ans)\n",
    "        \n",
    "        a_pad = torch.nn.functional.pad(x, (1, 1, 0, 0))\n",
    "        ans = self.few_erode_raw(a_pad)\n",
    "        ans_raw = self.few_dilate_raw(ans)\n",
    "        return ans_col + ans_raw\n",
    "        \n",
    "    def forward(self,x):\n",
    "        B,C,W,H = x.shape\n",
    "        density_rate = torch.sum(x)/self.magic_number # better more then 14 * 14\n",
    "        # print(density_rate)\n",
    "        if density_rate < self.thre :\n",
    "            # print(\"here\")\n",
    "            activate_mask = self.forward_few(x)\n",
    "        else:\n",
    "            activate_mask = self.forward_dense(x)\n",
    "        if torch.sum(activate_mask) == 0:\n",
    "            return x\n",
    "        return activate_mask"
   ]
  },
  {
   "cell_type": "code",
   "execution_count": 141,
   "metadata": {
    "ExecuteTime": {
     "end_time": "2023-06-06T09:34:40.170175Z",
     "start_time": "2023-06-06T09:34:40.161199Z"
    }
   },
   "outputs": [],
   "source": [
    "acs_filter = ApprConSolution()"
   ]
  },
  {
   "cell_type": "code",
   "execution_count": 93,
   "metadata": {
    "ExecuteTime": {
     "end_time": "2023-06-06T09:21:35.985987Z",
     "start_time": "2023-06-06T09:21:35.889246Z"
    }
   },
   "outputs": [
    {
     "data": {
      "image/png": "[encoded data removed]",
      "text/plain": [
       "<Figure size 432x288 with 1 Axes>"
      ]
     },
     "metadata": {
      "needs_background": "light"
     },
     "output_type": "display_data"
    },
    {
     "data": {
      "text/plain": [
       "tensor(0.3163)"
      ]
     },
     "execution_count": 93,
     "metadata": {},
     "output_type": "execute_result"
    }
   ],
   "source": [
    "a = torch.randn((1,1,14,14))\n",
    "a[a<0.5] = 0\n",
    "a[a>0.5] = 1\n",
    "plt.imshow(a.squeeze().numpy())\n",
    "plt.show()\n",
    "torch.sum(a)/196"
   ]
  },
  {
   "cell_type": "code",
   "execution_count": 94,
   "metadata": {
    "ExecuteTime": {
     "end_time": "2023-06-06T09:21:36.787351Z",
     "start_time": "2023-06-06T09:21:36.669159Z"
    }
   },
   "outputs": [
    {
     "data": {
      "image/png": "[encoded data removed]",
      "text/plain": [
       "<Figure size 432x288 with 1 Axes>"
      ]
     },
     "metadata": {
      "needs_background": "light"
     },
     "output_type": "display_data"
    }
   ],
   "source": [
    "ans = acs_filter(a)\n",
    "plt.imshow(ans.squeeze().numpy())\n",
    "plt.show()"
   ]
  },
  {
   "cell_type": "code",
   "execution_count": 112,
   "metadata": {
    "ExecuteTime": {
     "end_time": "2023-06-06T09:27:21.878794Z",
     "start_time": "2023-06-06T09:27:21.772080Z"
    }
   },
   "outputs": [
    {
     "data": {
      "image/png": "[encoded data removed]",
      "text/plain": [
       "<Figure size 432x288 with 1 Axes>"
      ]
     },
     "metadata": {
      "needs_background": "light"
     },
     "output_type": "display_data"
    },
    {
     "data": {
      "text/plain": [
       "tensor(0.2194)"
      ]
     },
     "execution_count": 112,
     "metadata": {},
     "output_type": "execute_result"
    }
   ],
   "source": [
    "a = torch.randn((1,1,14,14))\n",
    "a[a<1] = 0\n",
    "a[a>1] = 1\n",
    "plt.imshow(a.squeeze().numpy())\n",
    "plt.show()\n",
    "torch.sum(a)/196"
   ]
  },
  {
   "cell_type": "code",
   "execution_count": 144,
   "metadata": {
    "ExecuteTime": {
     "end_time": "2023-06-06T09:34:47.762888Z",
     "start_time": "2023-06-06T09:34:47.662158Z"
    }
   },
   "outputs": [
    {
     "data": {
      "image/png": "[encoded data removed]",
      "text/plain": [
       "<Figure size 432x288 with 1 Axes>"
      ]
     },
     "metadata": {
      "needs_background": "light"
     },
     "output_type": "display_data"
    }
   ],
   "source": [
    "ans = acs_filter(a)\n",
    "plt.imshow(ans.squeeze().numpy())\n",
    "plt.show()"
   ]
  },
  {
   "cell_type": "code",
   "execution_count": null,
   "metadata": {},
   "outputs": [],
   "source": []
  }
 ],
 "metadata": {
  "hide_input": false,
  "kernelspec": {
   "display_name": "DSIM",
   "language": "python",
   "name": "dsim"
  },
  "language_info": {
   "codemirror_mode": {
    "name": "ipython",
    "version": 3
   },
   "file_extension": ".py",
   "mimetype": "text/x-python",
   "name": "python",
   "nbconvert_exporter": "python",
   "pygments_lexer": "ipython3",
   "version": "3.10.4"
  },
  "latex_envs": {
   "LaTeX_envs_menu_present": true,
   "autoclose": false,
   "autocomplete": true,
   "bibliofile": "biblio.bib",
   "cite_by": "apalike",
   "current_citInitial": 1,
   "eqLabelWithNumbers": true,
   "eqNumInitial": 1,
   "hotkeys": {
    "equation": "Ctrl-E",
    "itemize": "Ctrl-I"
   },
   "labels_anchors": false,
   "latex_user_defs": false,
   "report_style_numbering": false,
   "user_envs_cfg": false
  },
  "toc": {
   "base_numbering": 1,
   "nav_menu": {},
   "number_sections": true,
   "sideBar": true,
   "skip_h1_title": false,
   "title_cell": "Table of Contents",
   "title_sidebar": "Contents",
   "toc_cell": false,
   "toc_position": {},
   "toc_section_display": true,
   "toc_window_display": false
  },
  "varInspector": {
   "cols": {
    "lenName": 16,
    "lenType": 16,
    "lenVar": 40
   },
   "kernels_config": {
    "python": {
     "delete_cmd_postfix": "",
     "delete_cmd_prefix": "del ",
     "library": "var_list.py",
     "varRefreshCmd": "print(var_dic_list())"
    },
    "r": {
     "delete_cmd_postfix": ") ",
     "delete_cmd_prefix": "rm(",
     "library": "var_list.r",
     "varRefreshCmd": "cat(var_dic_list()) "
    }
   },
   "types_to_exclude": [
    "module",
    "function",
    "builtin_function_or_method",
    "instance",
    "_Feature"
   ],
   "window_display": false
  }
 },
 "nbformat": 4,
 "nbformat_minor": 2
}
