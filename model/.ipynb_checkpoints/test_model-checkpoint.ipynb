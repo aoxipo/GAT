{
 "cells": [
  {
   "cell_type": "code",
   "execution_count": 1,
   "metadata": {
    "ExecuteTime": {
     "end_time": "2022-02-11T08:19:54.990970Z",
     "start_time": "2022-02-11T08:19:52.046632Z"
    }
   },
   "outputs": [
    {
     "ename": "ImportError",
     "evalue": "attempted relative import with no known parent package",
     "output_type": "error",
     "traceback": [
      "\u001b[1;31m---------------------------------------------------------------------------\u001b[0m",
      "\u001b[1;31mImportError\u001b[0m                               Traceback (most recent call last)",
      "\u001b[1;32m~\\AppData\\Local\\Temp/ipykernel_17388/3946951972.py\u001b[0m in \u001b[0;36m<module>\u001b[1;34m\u001b[0m\n\u001b[0;32m      5\u001b[0m \u001b[1;32mfrom\u001b[0m \u001b[0mtorch\u001b[0m\u001b[1;33m.\u001b[0m\u001b[0mautograd\u001b[0m \u001b[1;32mimport\u001b[0m \u001b[0mVariable\u001b[0m\u001b[1;33m\u001b[0m\u001b[1;33m\u001b[0m\u001b[0m\n\u001b[0;32m      6\u001b[0m \u001b[1;32mfrom\u001b[0m \u001b[0mcmt_pytorch\u001b[0m\u001b[1;33m.\u001b[0m\u001b[0mcmt\u001b[0m \u001b[1;32mimport\u001b[0m \u001b[0mPoCMT\u001b[0m\u001b[1;33m,\u001b[0m \u001b[0mCMT\u001b[0m\u001b[1;33m,\u001b[0m\u001b[0mPoCMT_ti\u001b[0m\u001b[1;33m\u001b[0m\u001b[1;33m\u001b[0m\u001b[0m\n\u001b[1;32m----> 7\u001b[1;33m \u001b[1;32mfrom\u001b[0m \u001b[0mCeffici\u001b[0m \u001b[1;32mimport\u001b[0m \u001b[1;33m*\u001b[0m\u001b[1;33m\u001b[0m\u001b[1;33m\u001b[0m\u001b[0m\n\u001b[0m\u001b[0;32m      8\u001b[0m \u001b[1;32mfrom\u001b[0m \u001b[0mtorch_linear\u001b[0m\u001b[1;33m.\u001b[0m\u001b[0mmodel_\u001b[0m \u001b[1;32mimport\u001b[0m \u001b[1;33m*\u001b[0m\u001b[1;33m\u001b[0m\u001b[1;33m\u001b[0m\u001b[0m\n",
      "\u001b[1;32mE:\\ljl\\conv17\\model\\Ceffici.py\u001b[0m in \u001b[0;36m<module>\u001b[1;34m\u001b[0m\n\u001b[0;32m      2\u001b[0m \u001b[1;32mimport\u001b[0m \u001b[0mtorch\u001b[0m\u001b[1;33m.\u001b[0m\u001b[0mnn\u001b[0m \u001b[1;32mas\u001b[0m \u001b[0mnn\u001b[0m\u001b[1;33m\u001b[0m\u001b[1;33m\u001b[0m\u001b[0m\n\u001b[0;32m      3\u001b[0m \u001b[1;32mimport\u001b[0m \u001b[0mtorch\u001b[0m\u001b[1;33m.\u001b[0m\u001b[0mnn\u001b[0m\u001b[1;33m.\u001b[0m\u001b[0mfunctional\u001b[0m \u001b[1;32mas\u001b[0m \u001b[0mF\u001b[0m\u001b[1;33m\u001b[0m\u001b[1;33m\u001b[0m\u001b[0m\n\u001b[1;32m----> 4\u001b[1;33m \u001b[1;32mfrom\u001b[0m \u001b[1;33m.\u001b[0m\u001b[0mDesNet\u001b[0m \u001b[1;32mimport\u001b[0m \u001b[0mdensenet\u001b[0m\u001b[1;33m\u001b[0m\u001b[1;33m\u001b[0m\u001b[0m\n\u001b[0m\u001b[0;32m      5\u001b[0m \u001b[0mdevice\u001b[0m \u001b[1;33m=\u001b[0m \u001b[0mtorch\u001b[0m\u001b[1;33m.\u001b[0m\u001b[0mdevice\u001b[0m\u001b[1;33m(\u001b[0m\u001b[1;34m\"cuda:0\"\u001b[0m \u001b[1;32mif\u001b[0m \u001b[0mtorch\u001b[0m\u001b[1;33m.\u001b[0m\u001b[0mcuda\u001b[0m\u001b[1;33m.\u001b[0m\u001b[0mis_available\u001b[0m\u001b[1;33m(\u001b[0m\u001b[1;33m)\u001b[0m \u001b[1;32melse\u001b[0m \u001b[1;34m\"cpu\"\u001b[0m\u001b[1;33m)\u001b[0m\u001b[1;33m\u001b[0m\u001b[1;33m\u001b[0m\u001b[0m\n\u001b[0;32m      6\u001b[0m \u001b[0muse_gpu\u001b[0m \u001b[1;33m=\u001b[0m \u001b[0mtorch\u001b[0m\u001b[1;33m.\u001b[0m\u001b[0mcuda\u001b[0m\u001b[1;33m.\u001b[0m\u001b[0mis_available\u001b[0m\u001b[1;33m(\u001b[0m\u001b[1;33m)\u001b[0m\u001b[1;33m\u001b[0m\u001b[1;33m\u001b[0m\u001b[0m\n",
      "\u001b[1;31mImportError\u001b[0m: attempted relative import with no known parent package"
     ]
    }
   ],
   "source": [
    "import torch\n",
    "import torch.nn as nn\n",
    "import torch.nn.functional as F\n",
    "from torchsummary import summary\n",
    "from torch.autograd import Variable\n",
    "from cmt_pytorch.cmt import PoCMT, CMT,PoCMT_ti\n",
    "from Ceffici import *\n",
    "from torch_linear.model_ import *"
   ]
  },
  {
   "cell_type": "code",
   "execution_count": 2,
   "metadata": {},
   "outputs": [],
   "source": [
    "cost_class = torch.nn.CrossEntropyLoss()"
   ]
  },
  {
   "cell_type": "code",
   "execution_count": 3,
   "metadata": {},
   "outputs": [],
   "source": [
    "a = torch.tensor([[0.0672, 0.0000]])"
   ]
  },
  {
   "cell_type": "code",
   "execution_count": 9,
   "metadata": {},
   "outputs": [],
   "source": [
    "b = torch.tensor(1).unsqueeze(0)"
   ]
  },
  {
   "cell_type": "code",
   "execution_count": 10,
   "metadata": {},
   "outputs": [
    {
     "data": {
      "text/plain": [
       "tensor(0.7273)"
      ]
     },
     "execution_count": 10,
     "metadata": {},
     "output_type": "execute_result"
    }
   ],
   "source": [
    "cost_class(a, b)"
   ]
  },
  {
   "cell_type": "code",
   "execution_count": 2,
   "metadata": {},
   "outputs": [],
   "source": [
    "from InceptionresNetV2 import inceptionresnetv2 as Model\n",
    "model = Model(num_classes=2, pretrained=None, need_return_dict = False)"
   ]
  },
  {
   "cell_type": "code",
   "execution_count": 3,
   "metadata": {},
   "outputs": [],
   "source": [
    "complex_model = crop_model_cat(1,2, model = model)"
   ]
  },
  {
   "cell_type": "code",
   "execution_count": 4,
   "metadata": {},
   "outputs": [],
   "source": [
    "batch_image = torch.rand((64,1,256,256))"
   ]
  },
  {
   "cell_type": "code",
   "execution_count": 5,
   "metadata": {
    "scrolled": true
   },
   "outputs": [],
   "source": [
    "d = complex_model(batch_image)"
   ]
  },
  {
   "cell_type": "code",
   "execution_count": 6,
   "metadata": {
    "scrolled": true
   },
   "outputs": [
    {
     "data": {
      "text/plain": [
       "tensor([[ 0.0244,  0.0512,  0.0176,  0.0454,  0.0570,  0.0112,  0.0918, -0.0285],\n",
       "        [ 0.1003,  0.1067,  0.0444,  0.0288,  0.1112,  0.0795,  0.0553,  0.0112],\n",
       "        [ 0.0586, -0.0131,  0.0745,  0.1172,  0.0615,  0.1038,  0.0531, -0.0315],\n",
       "        [ 0.0791,  0.1160,  0.0769,  0.1132,  0.1001,  0.0681,  0.0542,  0.0989],\n",
       "        [ 0.0972,  0.1148,  0.0820,  0.0095,  0.1239,  0.0913,  0.0148,  0.0627],\n",
       "        [ 0.0928,  0.0659,  0.0713,  0.0278,  0.0741,  0.0716,  0.0768,  0.0675],\n",
       "        [ 0.0424, -0.0031,  0.0486,  0.1002,  0.0383,  0.0475, -0.0333,  0.0994],\n",
       "        [ 0.1250,  0.0967,  0.0696,  0.0390,  0.0603,  0.0376,  0.0972,  0.0753]],\n",
       "       grad_fn=<ReshapeAliasBackward0>)"
      ]
     },
     "execution_count": 6,
     "metadata": {},
     "output_type": "execute_result"
    }
   ],
   "source": [
    "d[0]"
   ]
  },
  {
   "cell_type": "code",
   "execution_count": 7,
   "metadata": {},
   "outputs": [
    {
     "data": {
      "text/plain": [
       "tensor([[0., 0.]], grad_fn=<MulBackward0>)"
      ]
     },
     "execution_count": 7,
     "metadata": {},
     "output_type": "execute_result"
    }
   ],
   "source": [
    "d[1]"
   ]
  },
  {
   "cell_type": "code",
   "execution_count": 2,
   "metadata": {},
   "outputs": [
    {
     "ename": "NameError",
     "evalue": "name 'PoCMT_ti' is not defined",
     "output_type": "error",
     "traceback": [
      "\u001b[1;31m---------------------------------------------------------------------------\u001b[0m",
      "\u001b[1;31mNameError\u001b[0m                                 Traceback (most recent call last)",
      "\u001b[1;32m~\\AppData\\Local\\Temp/ipykernel_5388/1674348302.py\u001b[0m in \u001b[0;36m<module>\u001b[1;34m\u001b[0m\n\u001b[1;32m----> 1\u001b[1;33m \u001b[0mcmt_model\u001b[0m \u001b[1;33m=\u001b[0m \u001b[0mPoCMT_ti\u001b[0m\u001b[1;33m(\u001b[0m\u001b[0mimg_size\u001b[0m\u001b[1;33m=\u001b[0m\u001b[1;36m256\u001b[0m\u001b[1;33m,\u001b[0m \u001b[0min_chans\u001b[0m\u001b[1;33m=\u001b[0m\u001b[1;36m1\u001b[0m\u001b[1;33m,\u001b[0m \u001b[0mnum_classes\u001b[0m\u001b[1;33m=\u001b[0m\u001b[1;36m2\u001b[0m\u001b[1;33m,\u001b[0m \u001b[0msize_type\u001b[0m \u001b[1;33m=\u001b[0m \u001b[1;36m2\u001b[0m\u001b[1;33m)\u001b[0m\u001b[1;33m\u001b[0m\u001b[1;33m\u001b[0m\u001b[0m\n\u001b[0m",
      "\u001b[1;31mNameError\u001b[0m: name 'PoCMT_ti' is not defined"
     ]
    }
   ],
   "source": [
    "cmt_model = PoCMT_ti(img_size=256, in_chans=1, num_classes=2, size_type = 2)"
   ]
  },
  {
   "cell_type": "code",
   "execution_count": null,
   "metadata": {
    "scrolled": true
   },
   "outputs": [],
   "source": [
    "batch_image = torch.rand((2,1,256,256))\n",
    "batch_image.size()\n",
    "cmt_model.eval()\n",
    "with torch.no_grad():\n",
    "    ans = cmt_model(batch_image)\n",
    "    print(ans)"
   ]
  },
  {
   "cell_type": "code",
   "execution_count": 42,
   "metadata": {},
   "outputs": [],
   "source": [
    "a = nn.MaxPool2d(kernel_size=3, stride=1, padding = 1)"
   ]
  },
  {
   "cell_type": "code",
   "execution_count": 43,
   "metadata": {},
   "outputs": [
    {
     "data": {
      "text/plain": [
       "torch.Size([2, 1, 256, 256])"
      ]
     },
     "execution_count": 43,
     "metadata": {},
     "output_type": "execute_result"
    }
   ],
   "source": [
    "ans = a(batch_image)\n",
    "ans.size()"
   ]
  },
  {
   "cell_type": "code",
   "execution_count": 16,
   "metadata": {
    "ExecuteTime": {
     "end_time": "2022-02-11T08:22:00.489400Z",
     "start_time": "2022-02-11T08:22:00.030663Z"
    },
    "collapsed": true
   },
   "outputs": [],
   "source": [
    "net = ResNet(BasicBlock, [1,2,3,2])"
   ]
  },
  {
   "cell_type": "code",
   "execution_count": 17,
   "metadata": {
    "ExecuteTime": {
     "end_time": "2022-02-11T08:22:19.475468Z",
     "start_time": "2022-02-11T08:22:18.848825Z"
    }
   },
   "outputs": [
    {
     "name": "stdout",
     "output_type": "stream",
     "text": [
      "torch.Size([2, 512, 4, 4])\n",
      "torch.Size([2, 512, 1, 1])\n",
      "torch.Size([2, 512])\n",
      "----------------------------------------------------------------\n",
      "        Layer (type)               Output Shape         Param #\n",
      "================================================================\n",
      "            Conv2d-1         [-1, 64, 128, 128]             576\n",
      "       BatchNorm2d-2         [-1, 64, 128, 128]             128\n",
      "            Conv2d-3           [-1, 64, 64, 64]          36,864\n",
      "       BatchNorm2d-4           [-1, 64, 64, 64]             128\n",
      "            Conv2d-5           [-1, 64, 64, 64]          36,864\n",
      "       BatchNorm2d-6           [-1, 64, 64, 64]             128\n",
      "            Conv2d-7           [-1, 64, 64, 64]           4,096\n",
      "       BatchNorm2d-8           [-1, 64, 64, 64]             128\n",
      "        BasicBlock-9           [-1, 64, 64, 64]               0\n",
      "           Conv2d-10          [-1, 128, 32, 32]          73,728\n",
      "      BatchNorm2d-11          [-1, 128, 32, 32]             256\n",
      "           Conv2d-12          [-1, 128, 32, 32]         147,456\n",
      "      BatchNorm2d-13          [-1, 128, 32, 32]             256\n",
      "           Conv2d-14          [-1, 128, 32, 32]           8,192\n",
      "      BatchNorm2d-15          [-1, 128, 32, 32]             256\n",
      "       BasicBlock-16          [-1, 128, 32, 32]               0\n",
      "           Conv2d-17          [-1, 128, 32, 32]         147,456\n",
      "      BatchNorm2d-18          [-1, 128, 32, 32]             256\n",
      "           Conv2d-19          [-1, 128, 32, 32]         147,456\n",
      "      BatchNorm2d-20          [-1, 128, 32, 32]             256\n",
      "       BasicBlock-21          [-1, 128, 32, 32]               0\n",
      "           Conv2d-22            [-1, 256, 8, 8]         294,912\n",
      "      BatchNorm2d-23            [-1, 256, 8, 8]             512\n",
      "           Conv2d-24            [-1, 256, 8, 8]         589,824\n",
      "      BatchNorm2d-25            [-1, 256, 8, 8]             512\n",
      "           Conv2d-26            [-1, 256, 8, 8]          32,768\n",
      "      BatchNorm2d-27            [-1, 256, 8, 8]             512\n",
      "       BasicBlock-28            [-1, 256, 8, 8]               0\n",
      "           Conv2d-29            [-1, 256, 8, 8]         589,824\n",
      "      BatchNorm2d-30            [-1, 256, 8, 8]             512\n",
      "           Conv2d-31            [-1, 256, 8, 8]         589,824\n",
      "      BatchNorm2d-32            [-1, 256, 8, 8]             512\n",
      "       BasicBlock-33            [-1, 256, 8, 8]               0\n",
      "           Conv2d-34            [-1, 256, 8, 8]         589,824\n",
      "      BatchNorm2d-35            [-1, 256, 8, 8]             512\n",
      "           Conv2d-36            [-1, 256, 8, 8]         589,824\n",
      "      BatchNorm2d-37            [-1, 256, 8, 8]             512\n",
      "       BasicBlock-38            [-1, 256, 8, 8]               0\n",
      "           Conv2d-39            [-1, 512, 4, 4]       1,179,648\n",
      "      BatchNorm2d-40            [-1, 512, 4, 4]           1,024\n",
      "           Conv2d-41            [-1, 512, 4, 4]       2,359,296\n",
      "      BatchNorm2d-42            [-1, 512, 4, 4]           1,024\n",
      "           Conv2d-43            [-1, 512, 4, 4]         131,072\n",
      "      BatchNorm2d-44            [-1, 512, 4, 4]           1,024\n",
      "       BasicBlock-45            [-1, 512, 4, 4]               0\n",
      "           Conv2d-46            [-1, 512, 4, 4]       2,359,296\n",
      "      BatchNorm2d-47            [-1, 512, 4, 4]           1,024\n",
      "           Conv2d-48            [-1, 512, 4, 4]       2,359,296\n",
      "      BatchNorm2d-49            [-1, 512, 4, 4]           1,024\n",
      "       BasicBlock-50            [-1, 512, 4, 4]               0\n",
      "           Linear-51                    [-1, 2]           1,026\n",
      "================================================================\n",
      "Total params: 12,279,618\n",
      "Trainable params: 12,279,618\n",
      "Non-trainable params: 0\n",
      "----------------------------------------------------------------\n",
      "Input size (MB): 0.25\n",
      "Forward/backward pass size (MB): 44.88\n",
      "Params size (MB): 46.84\n",
      "Estimated Total Size (MB): 91.97\n",
      "----------------------------------------------------------------\n"
     ]
    }
   ],
   "source": [
    "summary(net,(1, 256, 256))"
   ]
  }
 ],
 "metadata": {
  "hide_input": false,
  "kernelspec": {
   "display_name": "DSIM",
   "language": "python",
   "name": "dsim"
  },
  "language_info": {
   "codemirror_mode": {
    "name": "ipython",
    "version": 3
   },
   "file_extension": ".py",
   "mimetype": "text/x-python",
   "name": "python",
   "nbconvert_exporter": "python",
   "pygments_lexer": "ipython3",
   "version": "3.7.11"
  },
  "latex_envs": {
   "LaTeX_envs_menu_present": true,
   "autoclose": false,
   "autocomplete": true,
   "bibliofile": "biblio.bib",
   "cite_by": "apalike",
   "current_citInitial": 1,
   "eqLabelWithNumbers": true,
   "eqNumInitial": 1,
   "hotkeys": {
    "equation": "Ctrl-E",
    "itemize": "Ctrl-I"
   },
   "labels_anchors": false,
   "latex_user_defs": false,
   "report_style_numbering": false,
   "user_envs_cfg": false
  },
  "toc": {
   "base_numbering": 1,
   "nav_menu": {},
   "number_sections": true,
   "sideBar": true,
   "skip_h1_title": false,
   "title_cell": "Table of Contents",
   "title_sidebar": "Contents",
   "toc_cell": false,
   "toc_position": {},
   "toc_section_display": true,
   "toc_window_display": false
  },
  "varInspector": {
   "cols": {
    "lenName": 16,
    "lenType": 16,
    "lenVar": 40
   },
   "kernels_config": {
    "python": {
     "delete_cmd_postfix": "",
     "delete_cmd_prefix": "del ",
     "library": "var_list.py",
     "varRefreshCmd": "print(var_dic_list())"
    },
    "r": {
     "delete_cmd_postfix": ") ",
     "delete_cmd_prefix": "rm(",
     "library": "var_list.r",
     "varRefreshCmd": "cat(var_dic_list()) "
    }
   },
   "types_to_exclude": [
    "module",
    "function",
    "builtin_function_or_method",
    "instance",
    "_Feature"
   ],
   "window_display": false
  }
 },
 "nbformat": 4,
 "nbformat_minor": 2
}
